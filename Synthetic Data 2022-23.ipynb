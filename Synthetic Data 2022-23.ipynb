{
  "nbformat": 4,
  "nbformat_minor": 0,
  "metadata": {
    "colab": {
      "provenance": []
    },
    "kernelspec": {
      "name": "python3",
      "display_name": "Python 3"
    },
    "language_info": {
      "name": "python"
    }
  },
  "cells": [
    {
      "cell_type": "code",
      "execution_count": 1,
      "metadata": {
        "id": "c4dex8PQvkAS"
      },
      "outputs": [],
      "source": [
        "import pandas as pd\n",
        "\n",
        "# Step 1: Load dataset\n",
        "df = pd.read_csv(\"EGA_data.csv\",sep=';',  parse_dates=['OrderDate', 'ShipDate']) ##allow to read dates\n",
        "df = df.sort_values('OrderDate').reset_index(drop=True)"
      ]
    },
    {
      "cell_type": "code",
      "source": [
        "#Compute Z-score for Sales and Profit\n",
        "\n",
        "\n",
        "for col in ['Sales', 'Profit', 'Discounts']:\n",
        "    mean = df[col].mean()\n",
        "    std = df[col].std()\n",
        "    df[f'{col}_zscore'] = (df[col] - mean) / std\n",
        "\n",
        "    # Step 2: Replace outliers with mean if |z| > 3\n",
        "    df.loc[df[f'{col}_zscore'].abs() > 3, col] = mean"
      ],
      "metadata": {
        "id": "U9aYXbxNwp4y"
      },
      "execution_count": 2,
      "outputs": []
    },
    {
      "source": [
        "!pip install sdv>=1.20.0\n",
        "\n",
        "from sdv.single_table import CTGANSynthesizer\n",
        "from sdv.metadata import SingleTableMetadata # Import the metadata class\n",
        "import pandas as pd\n",
        "\n",
        "df = pd.read_csv(\"EGA_data.csv\", sep=';', parse_dates=['OrderDate','ShipDate'])\n",
        "df = df.drop(columns=['OrderID'])  # drop ID col\n",
        "\n",
        "# Instantiate the metadata object\n",
        "metadata = SingleTableMetadata()\n",
        "\n",
        "# Detect metadata from the DataFrame\n",
        "metadata.detect_from_dataframe(data=df)\n",
        "\n",
        "# Instantiate the synthesizer with the generated metadata\n",
        "synth = CTGANSynthesizer(metadata=metadata, epochs=500, verbose=True)\n",
        "synth.fit(df)\n",
        "fake = synth.sample(1000)"
      ],
      "cell_type": "code",
      "metadata": {
        "colab": {
          "base_uri": "https://localhost:8080/"
        },
        "id": "35zT1yL56io4",
        "outputId": "f6bbb9ab-5f14-453c-d97c-617fe988804c"
      },
      "execution_count": 3,
      "outputs": [
        {
          "output_type": "stream",
          "name": "stderr",
          "text": [
            "/usr/local/lib/python3.11/dist-packages/sdv/single_table/base.py:162: FutureWarning: The 'SingleTableMetadata' is deprecated. Please use the new 'Metadata' class for synthesizers.\n",
            "  warnings.warn(DEPRECATION_MSG, FutureWarning)\n",
            "/usr/local/lib/python3.11/dist-packages/sdv/single_table/base.py:128: UserWarning: We strongly recommend saving the metadata using 'save_to_json' for replicability in future SDV versions.\n",
            "  warnings.warn(\n",
            "Gen. (-0.17) | Discrim. (-0.05): 100%|██████████| 500/500 [13:20<00:00,  1.60s/it]\n"
          ]
        }
      ]
    },
    {
      "cell_type": "code",
      "source": [
        "print(fake.head())\n",
        "print(fake.dtypes)"
      ],
      "metadata": {
        "colab": {
          "base_uri": "https://localhost:8080/"
        },
        "id": "7K4s4V0J_M9q",
        "outputId": "27de9c20-46ca-49ad-d045-8ee6194165b3"
      },
      "execution_count": 4,
      "outputs": [
        {
          "output_type": "stream",
          "name": "stdout",
          "text": [
            "   OrderDate   ShipDate        ShipMode         State   Category   Sales  \\\n",
            "0 2020-02-24 2020-10-05    Second Class          Iowa  Furniture   36.58   \n",
            "1 2018-09-09 2018-09-30    Second Class       Georgia  Furniture  131.68   \n",
            "2 2020-12-13 2021-03-17    Second Class       Montana  Furniture  261.96   \n",
            "3 2018-08-24 2018-09-27  Standard Class      Virginia  Furniture  131.24   \n",
            "4 2021-09-22 2021-09-21     First Class  North Dakota  Furniture  130.20   \n",
            "\n",
            "   Profit  Discounts  \n",
            "0   12.23       0.73  \n",
            "1   52.90       0.00  \n",
            "2   -2.55       0.00  \n",
            "3  -41.27       0.68  \n",
            "4   15.09       0.00  \n",
            "OrderDate    datetime64[ns]\n",
            "ShipDate     datetime64[ns]\n",
            "ShipMode             object\n",
            "State                object\n",
            "Category             object\n",
            "Sales               float64\n",
            "Profit              float64\n",
            "Discounts           float64\n",
            "dtype: object\n"
          ]
        }
      ]
    },
    {
      "cell_type": "code",
      "source": [
        "#Date format conversion\n",
        "fake['OrderDate'] = pd.to_datetime(fake['OrderDate'], errors='coerce')\n",
        "fake['ShipDate'] = pd.to_datetime(fake['ShipDate'], errors='coerce')"
      ],
      "metadata": {
        "id": "W5N33L9O_ozD"
      },
      "execution_count": 5,
      "outputs": []
    },
    {
      "cell_type": "code",
      "source": [
        "#create orderDate & ShipDate\n",
        "import numpy as np\n",
        "\n",
        "fake['OrderDate'] = pd.to_datetime(np.random.choice(pd.date_range('2022-01-01', '2023-12-31'), size=len(fake)))\n",
        "fake['ShipDate'] = fake['OrderDate'] + pd.to_timedelta(np.random.randint(1, 7, size=len(fake)), unit='D')"
      ],
      "metadata": {
        "id": "5J502bI2AgSd"
      },
      "execution_count": 6,
      "outputs": []
    },
    {
      "source": [
        "#formatting and downloading file\n",
        "import pandas as pd\n",
        "\n",
        "fake.to_csv('EGA_synthetic_2022_2023.csv', index=False)\n",
        "\n",
        "df = pd.read_csv('EGA_synthetic_2022_2023.csv', parse_dates=['OrderDate', 'ShipDate'])\n",
        "original_df = pd.read_csv(\"EGA_data.csv\", sep=';', parse_dates=['OrderDate', 'ShipDate'])\n",
        "\n",
        "# Filter and sort\n",
        "df = df[df['Category'] == 'Furniture']\n",
        "df = df.sort_values(by='OrderDate')\n",
        "\n",
        "# Step 4: Save the updated data to a new CSV\n",
        "df.to_csv('EGA_synthetic_sorted.csv', index=False)\n",
        "\n",
        "# Drop duplicate or conflicting columns like 'OrderID' if needed\n",
        "original_df = original_df.drop(columns=['OrderID'], errors='ignore')\n",
        "\n",
        "# Combine both DataFrames\n",
        "# Corrected the variable name from EGA_synthetic_sorted to df\n",
        "combined_df = pd.concat([original_df, df], ignore_index=True)\n",
        "\n",
        "# Optional: sort by date if needed\n",
        "combined_df = combined_df.sort_values(by='OrderDate').reset_index(drop=True)\n",
        "\n",
        "# Save to new CSV\n",
        "combined_df.to_csv(\"EGA_combined_real_synthetic.csv\", index=False)\n",
        "\n",
        "from google.colab import files\n",
        "files.download('EGA_combined_real_synthetic.csv')"
      ],
      "cell_type": "code",
      "metadata": {
        "colab": {
          "base_uri": "https://localhost:8080/",
          "height": 17
        },
        "id": "5OQoUTl5__yn",
        "outputId": "30b3a851-fe38-4be4-9f69-c1ed9af914cf"
      },
      "execution_count": null,
      "outputs": [
        {
          "output_type": "display_data",
          "data": {
            "text/plain": [
              "<IPython.core.display.Javascript object>"
            ],
            "application/javascript": [
              "\n",
              "    async function download(id, filename, size) {\n",
              "      if (!google.colab.kernel.accessAllowed) {\n",
              "        return;\n",
              "      }\n",
              "      const div = document.createElement('div');\n",
              "      const label = document.createElement('label');\n",
              "      label.textContent = `Downloading \"${filename}\": `;\n",
              "      div.appendChild(label);\n",
              "      const progress = document.createElement('progress');\n",
              "      progress.max = size;\n",
              "      div.appendChild(progress);\n",
              "      document.body.appendChild(div);\n",
              "\n",
              "      const buffers = [];\n",
              "      let downloaded = 0;\n",
              "\n",
              "      const channel = await google.colab.kernel.comms.open(id);\n",
              "      // Send a message to notify the kernel that we're ready.\n",
              "      channel.send({})\n",
              "\n",
              "      for await (const message of channel.messages) {\n",
              "        // Send a message to notify the kernel that we're ready.\n",
              "        channel.send({})\n",
              "        if (message.buffers) {\n",
              "          for (const buffer of message.buffers) {\n",
              "            buffers.push(buffer);\n",
              "            downloaded += buffer.byteLength;\n",
              "            progress.value = downloaded;\n",
              "          }\n",
              "        }\n",
              "      }\n",
              "      const blob = new Blob(buffers, {type: 'application/binary'});\n",
              "      const a = document.createElement('a');\n",
              "      a.href = window.URL.createObjectURL(blob);\n",
              "      a.download = filename;\n",
              "      div.appendChild(a);\n",
              "      a.click();\n",
              "      div.remove();\n",
              "    }\n",
              "  "
            ]
          },
          "metadata": {}
        },
        {
          "output_type": "display_data",
          "data": {
            "text/plain": [
              "<IPython.core.display.Javascript object>"
            ],
            "application/javascript": [
              "download(\"download_ad294dd2-85a7-42c7-8d23-f2851ce72c33\", \"EGA_combined_real_synthetic.csv\", 784864)"
            ]
          },
          "metadata": {}
        }
      ]
    }
  ]
}